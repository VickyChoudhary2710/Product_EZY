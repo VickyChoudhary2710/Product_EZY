{
 "cells": [
  {
   "cell_type": "code",
   "execution_count": 1,
   "id": "693b9563",
   "metadata": {},
   "outputs": [],
   "source": [
    "import math\n",
    "import datetime\n",
    "import numpy as np\n",
    "import pandas as pd\n",
    "from sklearn import preprocessing\n",
    "import matplotlib.pyplot as plt\n",
    "plt.style.use(\"ggplot\")\n",
    "import seaborn as sns\n",
    "from sklearn.cluster import KMeans\n",
    "from sklearn.neighbors import NearestNeighbors\n",
    "from sklearn.compose import make_column_selector as selector\n",
    "import warnings\n",
    "import sys\n",
    "sys.path.append('C:/Users/VickyChoudhary/OneDrive - Zenon/106. Zennovate - 2022/Final')\n",
    "from ezy_functions import *\n",
    "label_encoder = preprocessing.LabelEncoder()\n"
   ]
  },
  {
   "cell_type": "code",
   "execution_count": 23,
   "id": "f5f53d72",
   "metadata": {},
   "outputs": [],
   "source": [
    "# Paths for Data files\n",
    "customer_data_path = \"C:/Users/VickyChoudhary/Downloads/customer_info_v2.csv\"\n",
    "transaction_data_path = \"C:/Users/VickyChoudhary/Downloads/transaction_data_v2.csv\"\n",
    "mapping_data_path = \"C:/Users/VickyChoudhary/Downloads/test_control_mapping.csv\"\n",
    "\n",
    "# Campaign Dates\n",
    "campaign_start_date = \"2021-10-01\"\n",
    "campaign_end_date = \"2021-12-31\"\n",
    "pre_campaign_date = \"2021-09-30\"\n",
    "pre_start_date = \"2021-01-01\""
   ]
  },
  {
   "cell_type": "code",
   "execution_count": 3,
   "id": "39148136",
   "metadata": {},
   "outputs": [
    {
     "name": "stdout",
     "output_type": "stream",
     "text": [
      "No filtraion criteria passed\n"
     ]
    }
   ],
   "source": [
    "master_data, customer_data = master_data(\n",
    "    transaction_data_path, customer_data_path, mapping_data_path, \"Customer_ID\"\n",
    ")\n",
    "master_data = data_manipulation(master_data, \"Spend_Amount\")\n",
    "master_data = outlier_removal_function(\n",
    "    master_data, \"Spend_Amount\", \"Cutoff Method\", upper_limit=450, lower_limit=50\n",
    ")\n",
    "master_data = data_filter_dict(master_data, filt_dict=None)\n",
    "campaign_data, pre_campaign_data = data_filtration(\n",
    "    master_data, campaign_start_date, campaign_end_date, pre_campaign_date\n",
    ")\n",
    "campaign_grouped = data_grouping(campaign_data,customer_data, ['Customer_ID','flag'],'Customer_ID', ['Spend_Amount'])\n",
    "pre_campaign_grouped = data_grouping(pre_campaign_data,customer_data, ['Customer_ID','flag'],'Customer_ID', ['Spend_Amount'])\n",
    "\n",
    "#print(campaign_data.describe(), end=\"\\n\")\n",
    "#print(pre_campaign_data.describe(), end=\"\\n\")"
   ]
  },
  {
   "cell_type": "code",
   "execution_count": 4,
   "id": "a07e0529",
   "metadata": {},
   "outputs": [
    {
     "name": "stderr",
     "output_type": "stream",
     "text": [
      "C:\\Users\\VickyChoudhary\\OneDrive - Zenon\\106. Zennovate - 2022\\Final\\ezy_functions.py:203: SettingWithCopyWarning: \n",
      "A value is trying to be set on a copy of a slice from a DataFrame.\n",
      "Try using .loc[row_indexer,col_indexer] = value instead\n",
      "\n",
      "See the caveats in the documentation: https://pandas.pydata.org/pandas-docs/stable/user_guide/indexing.html#returning-a-view-versus-a-copy\n",
      "  df_control[\"indice_c\"] = df_control.index\n"
     ]
    }
   ],
   "source": [
    "#Control Matching\n",
    "var_list = [\"Spend_Amount\", \"Age\", \"Job\",\"Marital_Status\", 'Education']\n",
    "final_data_test, final_data_control =control_matching('KNN', pre_campaign_grouped,campaign_grouped, pre_campaign_data,campaign_data, 'flag',var_list, 'Customer_ID')\n"
   ]
  },
  {
   "cell_type": "code",
   "execution_count": 5,
   "id": "fcd23780",
   "metadata": {},
   "outputs": [
    {
     "name": "stdout",
     "output_type": "stream",
     "text": [
      "204.96734850867216\n",
      "214.75263985801465\n"
     ]
    }
   ],
   "source": [
    "print(final_data_test.Spend_Amount.mean())\n",
    "print(final_data_control.Spend_Amount.mean())\n"
   ]
  },
  {
   "cell_type": "code",
   "execution_count": 6,
   "id": "eac3e836",
   "metadata": {},
   "outputs": [
    {
     "data": {
      "image/png": "[encoded data removed]",
      "text/plain": [
       "<Figure size 720x360 with 1 Axes>"
      ]
     },
     "metadata": {},
     "output_type": "display_data"
    }
   ],
   "source": [
    "#Pre Campaign monthly averages\n",
    "\n",
    "plt = plot_charts_avg(final_data_test,final_data_control,'Yearmonth', 'Spend_Amount')\n",
    "\n",
    "plt.axvline(x = '202109', color = 'r', linestyle = 'dotted')\n",
    "plt.axhline(y = 208.45 , color = 'g', linestyle = 'dotted')\n",
    "\n",
    "plt.ylim([50,300])\n",
    "plt.show()\n",
    "#Pre Campaign monthly averages\n",
    "# plt = plot_charts_avg(during_trans_test,during_trans_control,'Yearmonth', 'Spend_Amount')\n",
    "# plt.show()\n",
    "\n",
    "#campaign period - Oct'21 - Dec'21"
   ]
  },
  {
   "cell_type": "code",
   "execution_count": 60,
   "id": "c836831d",
   "metadata": {},
   "outputs": [],
   "source": [
    "def lift_cal1(test_data, control_data,pre_start_date, pre_end_date,campaign_start_date, campaign_end_date, metric):\n",
    "    test_data.Date = pd.to_datetime(test_data.Date)\n",
    "    control_data.Date = pd.to_datetime(control_data.Date)\n",
    "    test_pre = test_data[(test_data['Date']<=pre_end_date)]\n",
    "    test_dur = test_data[(test_data['Date']>=campaign_start_date)]\n",
    "    control_pre = control_data[(control_data['Date'] <= pre_end_date)]\n",
    "    control_dur = control_data[(control_data['Date'] >= campaign_start_date)]\n",
    "    \n",
    "    t_pre = test_pre[metric].mean()\n",
    "    t_dur = test_dur[metric].mean()\n",
    "    c_pre = control_pre[metric].mean()\n",
    "    c_dur = control_dur[metric].mean()\n",
    "    \n",
    "    lift = (t_dur - c_dur) - (t_pre - c_pre)\n",
    "    lift_perc = (t_pre - c_pre)\n",
    "    return lift, lift_perc    "
   ]
  },
  {
   "cell_type": "code",
   "execution_count": 61,
   "id": "47bd2835",
   "metadata": {},
   "outputs": [],
   "source": [
    "lift, lift_perc = lift_cal1(final_data_test, final_data_control, pre_start_date,pre_campaign_date,campaign_start_date,campaign_end_date,'Spend_Amount')"
   ]
  },
  {
   "cell_type": "code",
   "execution_count": 62,
   "id": "d18211b7",
   "metadata": {},
   "outputs": [
    {
     "name": "stdout",
     "output_type": "stream",
     "text": [
      "-28.19184584272182\n",
      "-2.6355253637274245\n"
     ]
    }
   ],
   "source": [
    "print(lift)\n",
    "print(lift_perc)\n",
    "\n",
    "# Customer level\n",
    "# testing the code performance\n",
    "# dimension level - lift\n",
    "# lift, trend,\n",
    "# another data set"
   ]
  }
 ],
 "metadata": {
  "kernelspec": {
   "display_name": "Python 3",
   "language": "python",
   "name": "python3"
  },
  "language_info": {
   "codemirror_mode": {
    "name": "ipython",
    "version": 3
   },
   "file_extension": ".py",
   "mimetype": "text/x-python",
   "name": "python",
   "nbconvert_exporter": "python",
   "pygments_lexer": "ipython3",
   "version": "3.8.8"
  }
 },
 "nbformat": 4,
 "nbformat_minor": 5
}
